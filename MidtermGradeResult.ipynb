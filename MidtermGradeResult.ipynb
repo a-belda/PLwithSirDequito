{
  "nbformat": 4,
  "nbformat_minor": 0,
  "metadata": {
    "colab": {
      "provenance": [],
      "authorship_tag": "ABX9TyPRZTfAwkrwBFxOfAgIADOH",
      "include_colab_link": true
    },
    "kernelspec": {
      "name": "python3",
      "display_name": "Python 3"
    },
    "language_info": {
      "name": "python"
    }
  },
  "cells": [
    {
      "cell_type": "markdown",
      "metadata": {
        "id": "view-in-github",
        "colab_type": "text"
      },
      "source": [
        "<a href=\"https://colab.research.google.com/github/a-belda/PLwithSirDequito/blob/main/MidtermGradeResult.ipynb\" target=\"_parent\"><img src=\"https://colab.research.google.com/assets/colab-badge.svg\" alt=\"Open In Colab\"/></a>"
      ]
    },
    {
      "cell_type": "code",
      "execution_count": 59,
      "metadata": {
        "colab": {
          "base_uri": "https://localhost:8080/"
        },
        "id": "SfftVSYKmjBB",
        "outputId": "cc0752ea-b319-4549-89fd-fa42c75a6abc"
      },
      "outputs": [
        {
          "output_type": "stream",
          "name": "stdout",
          "text": [
            "========================================\n",
            "          MIDTERM GRADE RESULT          \n",
            "========================================\n",
            "                Subject  Grade  Passed\n",
            "0  Programming Language   1.25    True\n",
            "1                OS LEC   1.25    True\n",
            "2      World Literature   1.75    True\n",
            "3                   RPH   1.50    True\n",
            "\u001b[31m\u001b[1m\n",
            " \u001b[32;5m**This is to select the value of first row and first column via indexing**\u001b[0m \n",
            "\u001b[0m\n",
            "Programming Language\n",
            "\u001b[31m\u001b[1m\n",
            "**This is to select a single row using label location**\n",
            "\u001b[0m\n",
            "Subject    Programming Language\n",
            "Grade                      1.25\n",
            "Passed                     True\n",
            "Name: 0, dtype: object\n",
            "\n",
            "\n",
            "\u001b[93m\u001b[1m\u001b[95m             Presented by Adam Belda              \n"
          ]
        }
      ],
      "source": [
        "import pandas as pd  #starting by importing pandas fo the numpy package\n",
        "\n",
        "#creation of dataframes\n",
        "data = {'Subject': ['Programming Language', 'OS LEC', 'World Literature', 'RPH'], #a two-dimensional size-mutable, tabular, data structure with labeled axes\n",
        "            'Grade': [1.25, 1.25, 1.75, 1.50]}                        #a simple datafram of student grades\n",
        "df = pd.DataFrame(data)\n",
        "\n",
        "df['Passed'] = df['Grade'] <= 3.0 #to add a new column\n",
        "\n",
        "header = \"MIDTERM GRADE RESULT\"\n",
        "width = 40  # to align the header to my preferred alignment\n",
        "\n",
        "# Print the horizontal border\n",
        "print('=' * width)\n",
        "\n",
        "# Print the header\n",
        "print(header.center(width))\n",
        "\n",
        "# Print the horizontal border again\n",
        "print('=' * width)\n",
        "\n",
        "#basic dataframe operations such as viewing, selecting, adding, deleting, renaming the data columns\n",
        "print(df.head()) #this is to view the data\n",
        "\n",
        "\n",
        "#to slice the dataframe using loc and iloc\n",
        "print('\\033[31m' + '\\033[1m' + '\\n \\033[32;5m**This is to select the value of first row and first column via indexing**\\033[0m \\n' + '\\033[0m')\n",
        "print(df.iloc[0][0]) #this is to select the value of first row and first column via indexing\n",
        "print('\\033[31m' + '\\033[1m' + '\\n**This is to select a single row using label location**\\n' + '\\033[0m')\n",
        "print(df.loc[0]) #this is to select a single row using label location\n",
        "\n",
        "\n",
        "txt = \"Presented by Adam Belda\"\n",
        "\n",
        "x = txt.center(50) #center alignment of footer\n",
        "\n",
        "\n",
        "print('\\n\\n\\033[93m' + '\\033[1m' + '\\033[95m' + x)\n"
      ]
    }
  ]
}